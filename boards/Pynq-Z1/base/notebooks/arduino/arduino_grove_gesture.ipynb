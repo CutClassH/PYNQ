{
 "cells": [
  {
   "cell_type": "code",
   "execution_count": 1,
   "metadata": {},
   "outputs": [
    {
     "data": {
      "application/javascript": [
       "\n",
       "require(['notebook/js/codecell'], function(codecell) {\n",
       "  codecell.CodeCell.options_default.highlight_modes[\n",
       "      'magic_text/x-csrc'] = {'reg':[/^%%microblaze/]};\n",
       "  Jupyter.notebook.events.one('kernel_ready.Kernel', function(){\n",
       "      Jupyter.notebook.get_cells().map(function(cell){\n",
       "          if (cell.cell_type == 'code'){ cell.auto_highlight(); } }) ;\n",
       "  });\n",
       "});\n"
      ]
     },
     "metadata": {},
     "output_type": "display_data"
    }
   ],
   "source": [
    "from pynq.overlays.base import BaseOverlay\n",
    "base = BaseOverlay(\"base.bit\")"
   ]
  },
  {
   "cell_type": "code",
   "execution_count": 3,
   "metadata": {},
   "outputs": [],
   "source": [
    "from pynq.lib.arduino import Grove_Gesture\n",
    "from pynq.lib.arduino import ARDUINO_GROVE_I2C\n",
    "sensor = Grove_Gesture(base.ARDUINO,ARDUINO_GROVE_I2C)"
   ]
  },
  {
   "cell_type": "code",
   "execution_count": null,
   "metadata": {},
   "outputs": [],
   "source": [
    "#Use gestures to control rgbLed\n",
    "from time import sleep\n",
    "\n",
    "rgbled_position = [4,5]\n",
    "\n",
    "while (base.buttons[3].read()==0):\n",
    "    code = sensor.read_gesture()\n",
    "    if(code == 1 or code ==2):\n",
    "        color = 0\n",
    "    else:\n",
    "        color = (code-1)%8\n",
    "   \n",
    "    for led in rgbled_position:\n",
    "        base.rgbleds[led].write(color)\n",
    "        base.rgbleds[led].write(color)\n",
    "    sleep(0.05)\n",
    "        \n",
    "for led in rgbled_position:\n",
    "    base.rgbleds[led].off()"
   ]
  },
  {
   "cell_type": "code",
   "execution_count": null,
   "metadata": {},
   "outputs": [],
   "source": []
  }
 ],
 "metadata": {
  "kernelspec": {
   "display_name": "Python 3",
   "language": "python",
   "name": "python3"
  },
  "language_info": {
   "codemirror_mode": {
    "name": "ipython",
    "version": 3
   },
   "file_extension": ".py",
   "mimetype": "text/x-python",
   "name": "python",
   "nbconvert_exporter": "python",
   "pygments_lexer": "ipython3",
   "version": "3.6.5"
  }
 },
 "nbformat": 4,
 "nbformat_minor": 2
}
